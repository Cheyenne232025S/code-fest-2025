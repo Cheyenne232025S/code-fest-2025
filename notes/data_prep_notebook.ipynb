{
 "cells": [
  {
   "cell_type": "code",
   "execution_count": 3,
   "id": "bffd51f7-1ddc-4d76-b0f3-2bae56e96ada",
   "metadata": {},
   "outputs": [
    {
     "name": "stdout",
     "output_type": "stream",
     "text": [
      "Requirement already satisfied: pandas in c:\\users\\cheye\\anaconda3\\lib\\site-packages (2.0.3)\n",
      "Collecting geopy\n",
      "  Obtaining dependency information for geopy from https://files.pythonhosted.org/packages/e5/15/cf2a69ade4b194aa524ac75112d5caac37414b20a3a03e6865dfe0bd1539/geopy-2.4.1-py3-none-any.whl.metadata\n",
      "  Downloading geopy-2.4.1-py3-none-any.whl.metadata (6.8 kB)\n",
      "Requirement already satisfied: python-dateutil>=2.8.2 in c:\\users\\cheye\\anaconda3\\lib\\site-packages (from pandas) (2.8.2)\n",
      "Requirement already satisfied: pytz>=2020.1 in c:\\users\\cheye\\anaconda3\\lib\\site-packages (from pandas) (2023.3.post1)\n",
      "Requirement already satisfied: tzdata>=2022.1 in c:\\users\\cheye\\anaconda3\\lib\\site-packages (from pandas) (2023.3)\n",
      "Requirement already satisfied: numpy>=1.21.0 in c:\\users\\cheye\\anaconda3\\lib\\site-packages (from pandas) (1.24.3)\n",
      "Collecting geographiclib<3,>=1.52 (from geopy)\n",
      "  Obtaining dependency information for geographiclib<3,>=1.52 from https://files.pythonhosted.org/packages/31/b3/802576f2ea5dcb48501bb162e4c7b7b3ca5654a42b2c968ef98a797a4c79/geographiclib-2.1-py3-none-any.whl.metadata\n",
      "  Downloading geographiclib-2.1-py3-none-any.whl.metadata (1.6 kB)\n",
      "Requirement already satisfied: six>=1.5 in c:\\users\\cheye\\anaconda3\\lib\\site-packages (from python-dateutil>=2.8.2->pandas) (1.16.0)\n",
      "Downloading geopy-2.4.1-py3-none-any.whl (125 kB)\n",
      "   ---------------------------------------- 0.0/125.4 kB ? eta -:--:--\n",
      "   ---------------------------------------- 0.0/125.4 kB ? eta -:--:--\n",
      "   --------- ----------------------------- 30.7/125.4 kB 640.0 kB/s eta 0:00:01\n",
      "   ---------------------------------------- 125.4/125.4 kB 1.2 MB/s eta 0:00:00\n",
      "Downloading geographiclib-2.1-py3-none-any.whl (40 kB)\n",
      "   ---------------------------------------- 0.0/40.7 kB ? eta -:--:--\n",
      "   ---------------------------------------- 40.7/40.7 kB 2.0 MB/s eta 0:00:00\n",
      "Installing collected packages: geographiclib, geopy\n",
      "Successfully installed geographiclib-2.1 geopy-2.4.1\n"
     ]
    }
   ],
   "source": [
    "!pip install pandas geopy"
   ]
  },
  {
   "cell_type": "code",
   "execution_count": 5,
   "id": "769c558c-8369-4a63-8a8a-1652f1588e26",
   "metadata": {},
   "outputs": [],
   "source": [
    "import time\n",
    "import pandas as pd\n",
    "from geopy.geocoders import Nominatim\n",
    "from geopy.extra.rate_limiter import RateLimiter"
   ]
  },
  {
   "cell_type": "code",
   "execution_count": 6,
   "id": "24428a74-f4d7-43ac-b8f4-ea8068556b23",
   "metadata": {},
   "outputs": [
    {
     "data": {
      "text/plain": [
       "'../data/hotels_nyc_geocoded.csv'"
      ]
     },
     "execution_count": 6,
     "metadata": {},
     "output_type": "execute_result"
    }
   ],
   "source": [
    "IN_PATH  = \"../data/hotels_nyc.csv\"\n",
    "OUT_PATH = \"../data/hotels_nyc_geocoded.csv\"\n",
    "\n",
    "df = pd.read_csv(IN_PATH)\n",
    "\n",
    "geolocator = Nominatim(user_agent=\"code-fest-nyc-hotel-geocoder\")\n",
    "geocode = RateLimiter(geolocator.geocode, min_delay_seconds=1)\n",
    "\n",
    "def fill_lat_lon(row):\n",
    "    if pd.notna(row.get(\"lat\")) and pd.notna(row.get(\"lon\")):\n",
    "        return row\n",
    "    q = row[\"address\"]\n",
    "    loc = geocode(q)\n",
    "    if loc:\n",
    "        row[\"lat\"], row[\"lon\"] = loc.latitude, loc.longitude\n",
    "    return row\n",
    "\n",
    "df = df.apply(fill_lat_lon, axis=1)\n",
    "df.to_csv(OUT_PATH, index=False)\n",
    "OUT_PATH"
   ]
  },
  {
   "cell_type": "code",
   "execution_count": null,
   "id": "a9c84f46-ee8b-46d9-b182-c4b4482c802e",
   "metadata": {},
   "outputs": [],
   "source": []
  }
 ],
 "metadata": {
  "kernelspec": {
   "display_name": "Python [conda env:base] *",
   "language": "python",
   "name": "conda-base-py"
  },
  "language_info": {
   "codemirror_mode": {
    "name": "ipython",
    "version": 3
   },
   "file_extension": ".py",
   "mimetype": "text/x-python",
   "name": "python",
   "nbconvert_exporter": "python",
   "pygments_lexer": "ipython3",
   "version": "3.11.5"
  }
 },
 "nbformat": 4,
 "nbformat_minor": 5
}
