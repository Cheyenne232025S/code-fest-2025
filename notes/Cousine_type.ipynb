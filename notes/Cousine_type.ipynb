{
 "cells": [
  {
   "cell_type": "code",
   "execution_count": 3,
   "id": "33115e69-f58a-42ad-86e8-252aa3af1118",
   "metadata": {},
   "outputs": [
    {
     "name": "stdout",
     "output_type": "stream",
     "text": [
      "categories\n",
      "sandwiches              182\n",
      "breakfast_brunch        152\n",
      "pizza                   140\n",
      "delis                   133\n",
      "fooddeliveryservices    118\n",
      "restaurants             112\n",
      "burgers                 107\n",
      "hotdogs                 103\n",
      "italian                 103\n",
      "coffee                  100\n",
      "salad                    98\n",
      "cocktailbars             93\n",
      "tradamerican             86\n",
      "chinese                  75\n",
      "newamerican              71\n",
      "mexican                  67\n",
      "japanese                 65\n",
      "seafood                  64\n",
      "cafes                    61\n",
      "sushi                    58\n",
      "chicken_wings            54\n",
      "bars                     51\n",
      "halal                    46\n",
      "juicebars                41\n",
      "mediterranean            41\n",
      "foodtrucks               40\n",
      "noodles                  31\n",
      "chickenshop              29\n",
      "bakeries                 28\n",
      "thai                     28\n",
      "foodstands               28\n",
      "korean                   27\n",
      "steak                    26\n",
      "desserts                 26\n",
      "venues                   26\n",
      "indpak                   25\n",
      "bagels                   25\n",
      "tacos                    25\n",
      "asianfusion              25\n",
      "wine_bars                24\n",
      "grocery                  22\n",
      "tapasmallplates          21\n",
      "bbq                      20\n",
      "wraps                    19\n",
      "latin                    18\n",
      "french                   18\n",
      "gluten_free              15\n",
      "kosher                   15\n",
      "catering                 14\n",
      "comfortfood              14\n",
      "Name: count, dtype: int64\n"
     ]
    }
   ],
   "source": [
    "import pandas as pd\n",
    "import ast\n",
    "\n",
    "df = pd.read_csv(\"../data/restaurants_near_hotels.csv\" )\n",
    "\n",
    "# Safely evaluate string lists like \"['pizza', 'thai']\"\n",
    "def parse_list(x):\n",
    "    try:\n",
    "        return ast.literal_eval(x)\n",
    "    except:\n",
    "        return []\n",
    "\n",
    "# Expand and count all categories\n",
    "all_cats = df['categories'].apply(parse_list).explode()\n",
    "counts = all_cats.value_counts()\n",
    "\n",
    "print(counts.head(50))"
   ]
  },
  {
   "cell_type": "code",
   "execution_count": null,
   "id": "0f05e472-3534-4192-a688-a2c1acc9d1fc",
   "metadata": {},
   "outputs": [],
   "source": []
  }
 ],
 "metadata": {
  "kernelspec": {
   "display_name": "Python [conda env:base] *",
   "language": "python",
   "name": "conda-base-py"
  },
  "language_info": {
   "codemirror_mode": {
    "name": "ipython",
    "version": 3
   },
   "file_extension": ".py",
   "mimetype": "text/x-python",
   "name": "python",
   "nbconvert_exporter": "python",
   "pygments_lexer": "ipython3",
   "version": "3.11.5"
  }
 },
 "nbformat": 4,
 "nbformat_minor": 5
}
