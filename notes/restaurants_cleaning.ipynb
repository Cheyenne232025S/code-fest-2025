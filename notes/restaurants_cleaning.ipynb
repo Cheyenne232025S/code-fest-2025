{
 "cells": [
  {
   "cell_type": "code",
   "execution_count": null,
   "id": "1cf32f05-68e4-4f13-a5be-ac2dabeb4b65",
   "metadata": {},
   "outputs": [],
   "source": [
    "import pandas as pd\n",
    "import json\n",
    "from pathlib import Path\n",
    "\n",
    "# 1. load your teammate's JSON\n",
    "with open(\"../data/raw/restaurants_nyc.json\", \"r\", encoding=\"utf-8\") as f:\n",
    "    data = json.load(f)\n",
    "\n",
    "df = pd.DataFrame(data)\n",
    "\n",
    "# 2. keep essential fields\n",
    "cols = [\"id\", \"name\", \"lat\", \"lon\", \"cuisine\"]\n",
    "df = df[cols]\n",
    "\n",
    "# 3. drop rows missing coordinates or names\n",
    "df = df.dropna(subset=[\"name\", \"lat\", \"lon\"])\n",
    "\n",
    "# 4. normalize cuisine field\n",
    "def normalize_cuisine(x):\n",
    "    if not x or pd.isna(x): return []\n",
    "    return [c.strip().lower() for c in str(x).replace(\",\", \";\").split(\";\") if c.strip()]\n",
    "\n",
    "df[\"cuisines\"] = df[\"cuisine\"].apply(normalize_cuisine)\n",
    "\n",
    "# 5. save cleaned version\n",
    "out_path = Path(\"../data/processed/restaurants_nyc_clean.csv\")\n",
    "df.to_csv(out_path, index=False)\n",
    "print(\"Saved cleaned dataset:\", out_path)\n"
   ]
  }
 ],
 "metadata": {
  "kernelspec": {
   "display_name": "Python [conda env:base] *",
   "language": "python",
   "name": "conda-base-py"
  },
  "language_info": {
   "codemirror_mode": {
    "name": "ipython",
    "version": 3
   },
   "file_extension": ".py",
   "mimetype": "text/x-python",
   "name": "python",
   "nbconvert_exporter": "python",
   "pygments_lexer": "ipython3",
   "version": "3.11.5"
  }
 },
 "nbformat": 4,
 "nbformat_minor": 5
}
